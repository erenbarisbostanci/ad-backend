{
 "cells": [
  {
   "cell_type": "code",
   "execution_count": 9,
   "metadata": {},
   "outputs": [],
   "source": [
    "import requests\n",
    "\n",
    "url = 'http://localhost:5000/generate-image'"
   ]
  },
  {
   "cell_type": "code",
   "execution_count": 10,
   "metadata": {},
   "outputs": [],
   "source": [
    "image_path = 'StarbucksColdDrinksLead.jpg'\n",
    "\n",
    "prompt = 'a cup of tea'\n",
    "color_hex = '#0FF000'"
   ]
  },
  {
   "cell_type": "code",
   "execution_count": 11,
   "metadata": {},
   "outputs": [],
   "source": [
    "with open(image_path, 'rb') as image_file:\n",
    "    # Prepare the payload\n",
    "    payload = {\n",
    "        'prompt': prompt,\n",
    "        'color': color_hex\n",
    "    }\n",
    "    files = {\n",
    "        'image': image_file\n",
    "    }\n",
    "\n",
    "    response = requests.post(url, data=payload, files=files)"
   ]
  },
  {
   "cell_type": "code",
   "execution_count": 12,
   "metadata": {},
   "outputs": [
    {
     "data": {
      "text/plain": [
       "<Response [200]>"
      ]
     },
     "execution_count": 12,
     "metadata": {},
     "output_type": "execute_result"
    }
   ],
   "source": [
    "response"
   ]
  },
  {
   "cell_type": "code",
   "execution_count": 13,
   "metadata": {},
   "outputs": [],
   "source": [
    "if response.status_code == 200:\n",
    "        # Save the received image\n",
    "        with open('output_image5.png', 'wb') as out_file:\n",
    "            out_file.write(response.content)"
   ]
  },
  {
   "cell_type": "code",
   "execution_count": null,
   "metadata": {},
   "outputs": [],
   "source": []
  },
  {
   "cell_type": "code",
   "execution_count": 14,
   "metadata": {},
   "outputs": [],
   "source": [
    "image_path = 'StarbucksColdDrinksLead.jpg'\n",
    "logo_path = 'logo.png'\n",
    "punchline = 'a cup of tea NNNNNN asgsgfsdg fsd gsdg fsd gfsd ds fgsd fgsd fgsd gsd gsdgf sd gsd gsdg fsdg sdfgsdfgsdfgsdfg dsg ds sdfg sdgf sdg sd gsdg sdg sdf gsdf '\n",
    "button_text = 'a cup of tea bUTTONNN sdg sdfg sdgf sd gfsd gsdg sdg sdg sd gsd gsdfg sdfg sdg ds gsd d sgsdf ggds gsdfgsdfgsdfg sdfg sd sd '\n",
    "color_hex = '#0FF000'"
   ]
  },
  {
   "cell_type": "code",
   "execution_count": 15,
   "metadata": {},
   "outputs": [],
   "source": [
    "import requests\n",
    "\n",
    "with open(logo_path, 'rb') as logo:\n",
    "    with open(image_path, 'rb') as image_file:\n",
    "        # Prepare the payload\n",
    "        payload = {\n",
    "            'punchline': punchline,\n",
    "            'button_text': button_text,\n",
    "            'color': color_hex\n",
    "        }\n",
    "        files = {\n",
    "            'image': image_file,\n",
    "            'logo': logo\n",
    "        }\n",
    "        url = 'http://localhost:5000/generate-ad'\n",
    "        response = requests.post(url, data=payload, files=files)"
   ]
  },
  {
   "cell_type": "code",
   "execution_count": 16,
   "metadata": {},
   "outputs": [
    {
     "data": {
      "text/plain": [
       "<Response [200]>"
      ]
     },
     "execution_count": 16,
     "metadata": {},
     "output_type": "execute_result"
    }
   ],
   "source": [
    "response"
   ]
  },
  {
   "cell_type": "code",
   "execution_count": 17,
   "metadata": {},
   "outputs": [],
   "source": [
    "if response.status_code == 200:\n",
    "        # Save the received image\n",
    "        with open('AD_output_image.png', 'wb') as out_file:\n",
    "            out_file.write(response.content)"
   ]
  },
  {
   "cell_type": "code",
   "execution_count": null,
   "metadata": {},
   "outputs": [],
   "source": []
  }
 ],
 "metadata": {
  "kernelspec": {
   "display_name": "Python 3",
   "language": "python",
   "name": "python3"
  },
  "language_info": {
   "codemirror_mode": {
    "name": "ipython",
    "version": 3
   },
   "file_extension": ".py",
   "mimetype": "text/x-python",
   "name": "python",
   "nbconvert_exporter": "python",
   "pygments_lexer": "ipython3",
   "version": "3.11.5"
  }
 },
 "nbformat": 4,
 "nbformat_minor": 2
}
